{
 "cells": [
  {
   "cell_type": "markdown",
   "metadata": {},
   "source": [
    "# Pokeguide Database Generator - Mongoose Chapter\n",
    "\n",
    "*The Mongoose Chapter notebook is meant to focus on database preparation and generation with all data stemming from the **Pokemon.json** file. The database created will interact with the\n",
    "Flask application and will be used to display the data in the web application.*"
   ]
  },
  {
   "cell_type": "code",
   "execution_count": 9,
   "metadata": {},
   "outputs": [],
   "source": [
    "# Dependency Center\n",
    "import json\n",
    "import sqlite3\n",
    "import pandas as pd"
   ]
  },
  {
   "cell_type": "code",
   "execution_count": 10,
   "metadata": {},
   "outputs": [],
   "source": [
    "# Load the data from the JSON file\n",
    "with open('static/data/pokemon.json') as f:\n",
    "    data = json.load(f)\n",
    "\n",
    "# Create a new SQLite database and establish a connection\n",
    "conn = sqlite3.connect('pokedex.db')\n",
    "\n",
    "# Create a new cursor object\n",
    "c = conn.cursor()\n",
    "\n",
    "# Create a table for Pokemon\n",
    "c.execute(\"\"\"\n",
    "    CREATE TABLE pokemon (\n",
    "        id INTEGER PRIMARY KEY,\n",
    "        name TEXT,\n",
    "        height INTEGER,\n",
    "        weight INTEGER,\n",
    "        pokemon_url TEXT\n",
    "    )\n",
    "\"\"\")\n",
    "\n",
    "# Create a table for Abilities\n",
    "c.execute(\"\"\"\n",
    "    CREATE TABLE abilities (\n",
    "        pokemon_id INTEGER,\n",
    "        name TEXT,\n",
    "        is_hidden BOOLEAN,\n",
    "        FOREIGN KEY(pokemon_id) REFERENCES pokemon(id)\n",
    "    )\n",
    "\"\"\")\n",
    "\n",
    "# Create a table for Stats\n",
    "c.execute(\"\"\"\n",
    "    CREATE TABLE stats (\n",
    "        pokemon_id INTEGER,\n",
    "        name TEXT,\n",
    "        base_stat INTEGER,\n",
    "        FOREIGN KEY(pokemon_id) REFERENCES pokemon(id)\n",
    "    )\n",
    "\"\"\")\n",
    "\n",
    "# Create a table for Types\n",
    "c.execute(\"\"\"\n",
    "    CREATE TABLE types (\n",
    "        pokemon_id INTEGER,\n",
    "        name TEXT,\n",
    "        FOREIGN KEY(pokemon_id) REFERENCES pokemon(id)\n",
    "    )\n",
    "\"\"\")\n",
    "\n",
    "# Iterate over the data and insert it into the tables\n",
    "for pokemon_name, pokemon_data in data.items():\n",
    "    # Insert into the Pokemon table\n",
    "    c.execute(\"\"\"\n",
    "        INSERT INTO pokemon (id, name, height, weight, pokemon_url)\n",
    "        VALUES (?, ?, ?, ?, ?)\n",
    "    \"\"\", (pokemon_data['id'], pokemon_data['name'], pokemon_data['height'], pokemon_data['weight'], pokemon_data['pokemon_url']))\n",
    "    \n",
    "    # Get the ID of the last inserted Pokemon\n",
    "    last_id = c.lastrowid\n",
    "    \n",
    "    # Insert abilities, stats, and types\n",
    "    for ability in pokemon_data['abilities']:\n",
    "        c.execute(\"\"\"\n",
    "            INSERT INTO abilities (pokemon_id, name, is_hidden)\n",
    "            VALUES (?, ?, ?)\n",
    "        \"\"\", (last_id, ability['name'], ability['is_hidden']))\n",
    "        \n",
    "    for stat in pokemon_data['stats']:\n",
    "        c.execute(\"\"\"\n",
    "            INSERT INTO stats (pokemon_id, name, base_stat)\n",
    "            VALUES (?, ?, ?)\n",
    "        \"\"\", (last_id, stat['name'], stat['base_stat']))\n",
    "        \n",
    "    for type in pokemon_data['types']:\n",
    "        c.execute(\"\"\"\n",
    "            INSERT INTO types (pokemon_id, name)\n",
    "            VALUES (?, ?)\n",
    "        \"\"\", (last_id, type['name']))\n",
    "\n",
    "# Commit the changes\n",
    "conn.commit()"
   ]
  },
  {
   "cell_type": "code",
   "execution_count": 13,
   "metadata": {},
   "outputs": [],
   "source": [
    "# Query each table and load the data into a DataFrame\n",
    "df_pokemon = pd.read_sql_query(\"SELECT * FROM pokemon\", conn)\n",
    "df_abilities = pd.read_sql_query(\"SELECT * FROM abilities\", conn)\n",
    "df_stats = pd.read_sql_query(\"SELECT * FROM stats\", conn)\n",
    "df_types = pd.read_sql_query(\"SELECT * FROM types\", conn)"
   ]
  },
  {
   "cell_type": "code",
   "execution_count": 14,
   "metadata": {},
   "outputs": [
    {
     "name": "stdout",
     "output_type": "stream",
     "text": [
      "Pokemon Table:\n",
      "      id            name  height  weight   \n",
      "0      1       bulbasaur      70      69  \\\n",
      "1      2         ivysaur     100     130   \n",
      "2      3        venusaur     200    1000   \n",
      "3      4      charmander      60      85   \n",
      "4      5      charmeleon     110     190   \n",
      "..   ...             ...     ...     ...   \n",
      "885  886        drakloak     140     110   \n",
      "886  887       dragapult     300     500   \n",
      "887  888     zacian-hero     280    1100   \n",
      "888  889  zamazenta-hero     290    2100   \n",
      "889  890       eternatus    2000    9500   \n",
      "\n",
      "                                           pokemon_url  \n",
      "0         https://www.pokemon.com/us/pokedex/bulbasaur  \n",
      "1           https://www.pokemon.com/us/pokedex/ivysaur  \n",
      "2          https://www.pokemon.com/us/pokedex/venusaur  \n",
      "3        https://www.pokemon.com/us/pokedex/charmander  \n",
      "4        https://www.pokemon.com/us/pokedex/charmeleon  \n",
      "..                                                 ...  \n",
      "885        https://www.pokemon.com/us/pokedex/drakloak  \n",
      "886       https://www.pokemon.com/us/pokedex/dragapult  \n",
      "887     https://www.pokemon.com/us/pokedex/zacian-hero  \n",
      "888  https://www.pokemon.com/us/pokedex/zamazenta-hero  \n",
      "889       https://www.pokemon.com/us/pokedex/eternatus  \n",
      "\n",
      "[890 rows x 5 columns]\n"
     ]
    }
   ],
   "source": [
    "# Display the Pokemon, Abilities, Stats, and Types tables from the Pokemon database\n",
    "# Pokemon Table: Contains the Pokemon's name, height, weight, and ID\n",
    "print(\"Pokemon Table:\")\n",
    "print(df_pokemon)"
   ]
  },
  {
   "cell_type": "code",
   "execution_count": 15,
   "metadata": {},
   "outputs": [
    {
     "name": "stdout",
     "output_type": "stream",
     "text": [
      "\n",
      "Abilities Table:\n",
      "      pokemon_id              name  is_hidden\n",
      "0              1          overgrow          0\n",
      "1              1       chlorophyll          1\n",
      "2              2          overgrow          0\n",
      "3              2       chlorophyll          1\n",
      "4              3          overgrow          0\n",
      "...          ...               ...        ...\n",
      "2126         887       infiltrator          0\n",
      "2127         887       cursed-body          1\n",
      "2128         888    intrepid-sword          0\n",
      "2129         889  dauntless-shield          0\n",
      "2130         890          pressure          0\n",
      "\n",
      "[2131 rows x 3 columns]\n"
     ]
    }
   ],
   "source": [
    "# Abilities Table: Contains the Pokemon's abilities and their IDs\n",
    "print(\"\\nAbilities Table:\")\n",
    "print(df_abilities)"
   ]
  },
  {
   "cell_type": "code",
   "execution_count": 16,
   "metadata": {},
   "outputs": [
    {
     "name": "stdout",
     "output_type": "stream",
     "text": [
      "\n",
      "Stats Table:\n",
      "      pokemon_id             name  base_stat\n",
      "0              1               hp         45\n",
      "1              1           attack         49\n",
      "2              1          defense         49\n",
      "3              1   special-attack         65\n",
      "4              1  special-defense         65\n",
      "...          ...              ...        ...\n",
      "5335         890           attack         85\n",
      "5336         890          defense         95\n",
      "5337         890   special-attack        145\n",
      "5338         890  special-defense         95\n",
      "5339         890            speed        130\n",
      "\n",
      "[5340 rows x 3 columns]\n"
     ]
    }
   ],
   "source": [
    "# Stats Table: Contains the Pokemon's stats and their IDs\n",
    "print(\"\\nStats Table:\")\n",
    "print(df_stats)"
   ]
  },
  {
   "cell_type": "code",
   "execution_count": 17,
   "metadata": {},
   "outputs": [
    {
     "name": "stdout",
     "output_type": "stream",
     "text": [
      "\n",
      "Types Table:\n",
      "      pokemon_id      name\n",
      "0              1     grass\n",
      "1              1    poison\n",
      "2              2     grass\n",
      "3              2    poison\n",
      "4              3     grass\n",
      "...          ...       ...\n",
      "1324         887     ghost\n",
      "1325         888     fairy\n",
      "1326         889  fighting\n",
      "1327         890    poison\n",
      "1328         890    dragon\n",
      "\n",
      "[1329 rows x 2 columns]\n"
     ]
    }
   ],
   "source": [
    "# Types Table: Contains the Pokemon's types and their IDs\n",
    "print(\"\\nTypes Table:\")\n",
    "print(df_types)"
   ]
  },
  {
   "cell_type": "code",
   "execution_count": 18,
   "metadata": {},
   "outputs": [],
   "source": [
    "# Close connection\n",
    "conn.close()"
   ]
  }
 ],
 "metadata": {
  "kernelspec": {
   "display_name": "Python 3 (ipykernel)",
   "language": "python",
   "name": "python3"
  },
  "language_info": {
   "codemirror_mode": {
    "name": "ipython",
    "version": 3
   },
   "file_extension": ".py",
   "mimetype": "text/x-python",
   "name": "python",
   "nbconvert_exporter": "python",
   "pygments_lexer": "ipython3",
   "version": "3.7.13"
  }
 },
 "nbformat": 4,
 "nbformat_minor": 2
}
